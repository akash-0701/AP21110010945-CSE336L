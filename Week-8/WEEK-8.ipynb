{
 "cells": [
  {
   "cell_type": "code",
   "execution_count": 1,
   "id": "7e61d3b5",
   "metadata": {},
   "outputs": [],
   "source": [
    "import numpy as np\n",
    "import pandas as pd\n",
    "import matplotlib.pyplot as plt"
   ]
  },
  {
   "cell_type": "code",
   "execution_count": 2,
   "id": "dbc389d6",
   "metadata": {},
   "outputs": [
    {
     "name": "stdout",
     "output_type": "stream",
     "text": [
      "Euclidean Distance:  107.55463727799001\n",
      "Manhattan Distance:  240\n",
      "Enter the value of q:\n",
      "2\n",
      "Minkowski Distance:  107.55463727799001\n"
     ]
    }
   ],
   "source": [
    "def euclidean(x,y):\n",
    "    a=(x-y)**2\n",
    "    b=np.sum(a)\n",
    "    c=np.sqrt(b)\n",
    "    return c\n",
    "def manhattan(x,y):\n",
    "    d=np.abs(x-y)\n",
    "    e=np.sum(d)\n",
    "    return e\n",
    "def minkowski(x,y,q):\n",
    "    f=np.power(np.abs(x-y),q)\n",
    "    g=np.sum(f)\n",
    "    h=np.power(g,1/q)\n",
    "    return h\n",
    "x=np.array([1,2,3,4,5,6,7,8,9])\n",
    "y=np.array([1,4,9,16,25,36,49,64,81])\n",
    "print(\"Euclidean Distance: \",euclidean(x,y))\n",
    "print(\"Manhattan Distance: \",manhattan(x,y))\n",
    "print(\"Enter the value of q:\")\n",
    "q=float(input())\n",
    "print(\"Minkowski Distance: \",minkowski(x,y,q))"
   ]
  },
  {
   "cell_type": "code",
   "execution_count": 3,
   "id": "ddf7d248",
   "metadata": {},
   "outputs": [
    {
     "name": "stdout",
     "output_type": "stream",
     "text": [
      "Euclidean Distance Matrix:\n",
      "[[0.         0.53851648 0.50990195 ... 4.45982062 4.65080638 4.14004831]\n",
      " [0.53851648 0.         0.3        ... 4.49888875 4.71805044 4.15331193]\n",
      " [0.50990195 0.3        0.         ... 4.66154481 4.84871117 4.29883705]\n",
      " ...\n",
      " [4.45982062 4.49888875 4.66154481 ... 0.         0.6164414  0.64031242]\n",
      " [4.65080638 4.71805044 4.84871117 ... 0.6164414  0.         0.76811457]\n",
      " [4.14004831 4.15331193 4.29883705 ... 0.64031242 0.76811457 0.        ]]\n"
     ]
    }
   ],
   "source": [
    "from sklearn.datasets import load_iris\n",
    "iris=load_iris()\n",
    "data=iris.data\n",
    "def euclidean_dist_matrix(data):\n",
    "    samples=len(data)\n",
    "    dist_matrix=np.zeros((samples,samples))\n",
    "    for i in range(samples):\n",
    "        for j in range(samples):\n",
    "            dist_matrix[i,j]=euclidean(data[i],data[j])\n",
    "    return dist_matrix\n",
    "dist_matrix=euclidean_dist_matrix(data)\n",
    "print(\"Euclidean Distance Matrix:\")\n",
    "print(dist_matrix)"
   ]
  },
  {
   "cell_type": "code",
   "execution_count": 4,
   "id": "ecbacd3c",
   "metadata": {},
   "outputs": [
    {
     "data": {
      "image/png": "[encoded data removed]",
      "text/plain": [
       "<Figure size 576x432 with 1 Axes>"
      ]
     },
     "metadata": {
      "needs_background": "light"
     },
     "output_type": "display_data"
    }
   ],
   "source": [
    "import matplotlib.pyplot as plt\n",
    "from sklearn.datasets import load_iris\n",
    "\n",
    "iris = load_iris()\n",
    "data = iris.data\n",
    "target = iris.target\n",
    "\n",
    "index1 = 0\n",
    "index2 = 1\n",
    "sample1 = data[target == index1]\n",
    "sample2 = data[target == index2]\n",
    "attribute1 = 0\n",
    "attribute2 = 1\n",
    "\n",
    "plt.figure(figsize=(8, 6))\n",
    "plt.scatter(sample1[:, attribute1], sample1[:, attribute2], label=f\"Class {index1}\", color='green')\n",
    "plt.scatter(sample2[:, attribute1], sample2[:, attribute2], label=f\"Class {index2}\", color='black')\n",
    "plt.xlabel(f\"Attribute: {attribute1}\")\n",
    "plt.ylabel(f\"Attribute: {attribute2}\")\n",
    "plt.title(\"Scatter Plot of Samples from Two Output Classes\")\n",
    "plt.legend()\n",
    "plt.grid(True)\n",
    "plt.show()\n"
   ]
  },
  {
   "cell_type": "code",
   "execution_count": null,
   "id": "1d4fc58f",
   "metadata": {},
   "outputs": [],
   "source": []
  }
 ],
 "metadata": {
  "kernelspec": {
   "display_name": "Python 3 (ipykernel)",
   "language": "python",
   "name": "python3"
  },
  "language_info": {
   "codemirror_mode": {
    "name": "ipython",
    "version": 3
   },
   "file_extension": ".py",
   "mimetype": "text/x-python",
   "name": "python",
   "nbconvert_exporter": "python",
   "pygments_lexer": "ipython3",
   "version": "3.9.12"
  }
 },
 "nbformat": 4,
 "nbformat_minor": 5
}

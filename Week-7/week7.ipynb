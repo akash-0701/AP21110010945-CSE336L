{
 "cells": [
  {
   "cell_type": "code",
   "execution_count": 1,
   "id": "04298447",
   "metadata": {},
   "outputs": [],
   "source": [
    "import numpy as np"
   ]
  },
  {
   "cell_type": "code",
   "execution_count": 2,
   "id": "a893b852",
   "metadata": {},
   "outputs": [],
   "source": [
    "def compute_mean_and_variance(feature_vector):\n",
    "    return np.mean(feature_vector), np.var(feature_vector)"
   ]
  },
  {
   "cell_type": "code",
   "execution_count": 3,
   "id": "7dba79ed",
   "metadata": {},
   "outputs": [
    {
     "name": "stdout",
     "output_type": "stream",
     "text": [
      "Feature vector: [0.53402525 0.6511331  0.54676731 0.87211563 0.45756932]\n",
      "Mean: 0.6123221223254618\n",
      "Variance: 0.020675044427109227\n"
     ]
    }
   ],
   "source": [
    "N=5\n",
    "feature_vector = np.random.rand(N)  \n",
    "mean, variance = compute_mean_and_variance(feature_vector)\n",
    "print(\"Feature vector:\", feature_vector)\n",
    "print(\"Mean:\", mean)\n",
    "print(\"Variance:\", variance)"
   ]
  },
  {
   "cell_type": "code",
   "execution_count": 4,
   "id": "6c8f0892",
   "metadata": {},
   "outputs": [
    {
     "name": "stdout",
     "output_type": "stream",
     "text": [
      "Vector 1: [0.16469518 0.27433611 0.10499229]\n",
      "Vector 2: [0.82913136 0.827213   0.12769893]\n",
      "Covariance: 0.026687600618036968\n"
     ]
    }
   ],
   "source": [
    "def compute_covariance(vector1, vector2):\n",
    "    return np.cov(vector1, vector2)[0,1]\n",
    "m=3\n",
    "vector1 = np.random.rand(m)\n",
    "vector2 = np.random.rand(m)\n",
    "covariance = compute_covariance(vector1, vector2)\n",
    "print(\"Vector 1:\", vector1)\n",
    "print(\"Vector 2:\", vector2)\n",
    "print(\"Covariance:\", covariance)\n"
   ]
  },
  {
   "cell_type": "code",
   "execution_count": 5,
   "id": "8c8adfc1",
   "metadata": {},
   "outputs": [
    {
     "name": "stdout",
     "output_type": "stream",
     "text": [
      "Vector 1: [0.99206895 0.68459212 0.68883632]\n",
      "Vector 2: [0.88824607 0.40111965 0.3386556 ]\n",
      "Correlation: 0.9932773090342693\n"
     ]
    }
   ],
   "source": [
    "def compute_correlation(vector1, vector2):\n",
    "    return np.corrcoef(vector1, vector2)[0,1]\n",
    "m=3\n",
    "vector1 = np.random.rand(m)\n",
    "vector2 = np.random.rand(m)\n",
    "correlation = compute_correlation(vector1, vector2)\n",
    "print(\"Vector 1:\", vector1)\n",
    "print(\"Vector 2:\", vector2)\n",
    "print(\"Correlation:\", correlation)"
   ]
  },
  {
   "cell_type": "code",
   "execution_count": 6,
   "id": "f0304ef7",
   "metadata": {},
   "outputs": [],
   "source": [
    "def compute_correlation_matrix(feature_vector):\n",
    "    correlation_matrix = np.corrcoef(feature_matrix)\n",
    "  \n",
    "    return correlation_matrix"
   ]
  },
  {
   "cell_type": "code",
   "execution_count": 7,
   "id": "3cc374b1",
   "metadata": {},
   "outputs": [],
   "source": [
    "feature_matrix = np.array([[1, 2, 3],\n",
    "                            [4, 5, 6],\n",
    "                            [7, 8, 9]])\n",
    "\n",
    "\n",
    "correlation_matrix = compute_correlation_matrix(feature_matrix)"
   ]
  },
  {
   "cell_type": "code",
   "execution_count": 8,
   "id": "1dd18f8a",
   "metadata": {},
   "outputs": [
    {
     "name": "stdout",
     "output_type": "stream",
     "text": [
      "\n",
      "Correlation Matrix:\n",
      "[[1. 1. 1.]\n",
      " [1. 1. 1.]\n",
      " [1. 1. 1.]]\n"
     ]
    }
   ],
   "source": [
    "print(\"\\nCorrelation Matrix:\")\n",
    "print(correlation_matrix)"
   ]
  },
  {
   "cell_type": "code",
   "execution_count": null,
   "id": "abd12901",
   "metadata": {},
   "outputs": [],
   "source": []
  }
 ],
 "metadata": {
  "kernelspec": {
   "display_name": "Python 3 (ipykernel)",
   "language": "python",
   "name": "python3"
  },
  "language_info": {
   "codemirror_mode": {
    "name": "ipython",
    "version": 3
   },
   "file_extension": ".py",
   "mimetype": "text/x-python",
   "name": "python",
   "nbconvert_exporter": "python",
   "pygments_lexer": "ipython3",
   "version": "3.9.12"
  }
 },
 "nbformat": 4,
 "nbformat_minor": 5
}
